{
 "cells": [
  {
   "cell_type": "markdown",
   "metadata": {},
   "source": [
    "# Variational Auto Encoder with TensorFlow\n",
    "\n",
    "VAE trained on MNIST dataset. Both the encoder and decoder are fully-connected NNs."
   ]
  },
  {
   "cell_type": "code",
   "execution_count": 2,
   "metadata": {},
   "outputs": [],
   "source": [
    "import numpy as np\n",
    "import tensorflow as tf\n",
    "import tensorflow_probability as tfp\n",
    "import matplotlib.pyplot as plt"
   ]
  },
  {
   "cell_type": "markdown",
   "metadata": {},
   "source": [
    "Download and load the dataset"
   ]
  },
  {
   "cell_type": "code",
   "execution_count": 3,
   "metadata": {},
   "outputs": [
    {
     "name": "stdout",
     "output_type": "stream",
     "text": [
      "Downloading data from https://storage.googleapis.com/tensorflow/tf-keras-datasets/mnist.npz\n",
      "11490434/11490434 [==============================] - 0s 0us/step\n"
     ]
    }
   ],
   "source": [
    "(x_train, y_train), (x_test, y_test) = tf.keras.datasets.mnist.load_data()"
   ]
  },
  {
   "cell_type": "markdown",
   "metadata": {},
   "source": [
    "Preprocess the input. The images will be rescaled so all the pixels have a value between 0 and 1. This enables the decoder to learn a Bernoulli distribution over the pixel space."
   ]
  },
  {
   "cell_type": "code",
   "execution_count": 4,
   "metadata": {},
   "outputs": [],
   "source": [
    "def pre_process_imgs(img):\n",
    "    img = tf.cast(img, tf.float32)\n",
    "    img = img / 255.0\n",
    "    return img"
   ]
  },
  {
   "cell_type": "markdown",
   "metadata": {},
   "source": [
    "create the dataset object and batch the data"
   ]
  },
  {
   "cell_type": "code",
   "execution_count": 5,
   "metadata": {},
   "outputs": [
    {
     "name": "stderr",
     "output_type": "stream",
     "text": [
      "2022-10-17 17:34:48.183520: I tensorflow/core/platform/cpu_feature_guard.cc:193] This TensorFlow binary is optimized with oneAPI Deep Neural Network Library (oneDNN) to use the following CPU instructions in performance-critical operations:  SSE4.1 SSE4.2 AVX AVX2 FMA\n",
      "To enable them in other operations, rebuild TensorFlow with the appropriate compiler flags.\n"
     ]
    }
   ],
   "source": [
    "MNIST_dataset = tf.data.Dataset.from_tensor_slices(x_train)\n",
    "MNIST_dataset = MNIST_dataset.map(pre_process_imgs).batch(128)"
   ]
  },
  {
   "cell_type": "markdown",
   "metadata": {},
   "source": [
    "## Encoder\n",
    "A simple NN with one hidden layer and two heads for mean and variance($log(\\sigma^2)$) of the latent normal distributions. "
   ]
  },
  {
   "cell_type": "code",
   "execution_count": 6,
   "metadata": {},
   "outputs": [],
   "source": [
    "class MnistEncoder(tf.keras.layers.Layer):\n",
    "    def __init__(self, hidden_dim, latent_dim):\n",
    "        super(MnistEncoder, self).__init__()\n",
    "        self.latent_dim = latent_dim\n",
    "        self.flatten = tf.keras.layers.Flatten()\n",
    "        self.dense1 = tf.keras.layers.Dense(hidden_dim, activation='tanh')\n",
    "        self.dense_mu = tf.keras.layers.Dense(self.latent_dim, activation=None)\n",
    "        self.dense_logsig2 = tf.keras.layers.Dense(self.latent_dim, activation=None)\n",
    "\n",
    "    def call(self, x):\n",
    "        x = self.flatten(x)\n",
    "        x = self.dense1(x)\n",
    "        mu = self.dense_mu(x)\n",
    "        logsig2 = self.dense_logsig2(x)\n",
    "        return mu, tf.exp(logsig2)\n"
   ]
  },
  {
   "cell_type": "markdown",
   "metadata": {},
   "source": [
    "# Decoder\n",
    "Simple NN with a single hidden layer. Same number of units as the encoder's hidden layer."
   ]
  },
  {
   "cell_type": "code",
   "execution_count": 7,
   "metadata": {},
   "outputs": [],
   "source": [
    "class MnistDecoder(tf.keras.layers.Layer):\n",
    "    def __init__(self, hidden_dim, output_dim):\n",
    "        super(MnistDecoder, self).__init__()\n",
    "        self.dense1 = tf.keras.layers.Dense(hidden_dim, activation='tanh')\n",
    "        self.dense2 = tf.keras.layers.Dense(output_dim, activation='sigmoid')\n",
    "\n",
    "    def call(self, x):\n",
    "        x = self.dense1(x)\n",
    "        x = self.dense2(x)\n",
    "        return x"
   ]
  },
  {
   "cell_type": "markdown",
   "metadata": {},
   "source": [
    "# Complete VAE\n",
    "\n",
    "The VAE minimizes negative of ELBO loss:\n",
    "\n",
    "$$ \\text{ELBO} = \\mathbb{E}_{q_\\phi(z|x)} [\\log p_\\theta(x|z) + \\log p(z) - \\log(q_\\phi(z|x)]. $$"
   ]
  },
  {
   "cell_type": "code",
   "execution_count": 8,
   "metadata": {},
   "outputs": [],
   "source": [
    "class MnistVAE(tf.keras.Model):\n",
    "    def __init__(self, hidden_dim, latent_dim, output_dim):\n",
    "        super(MnistVAE, self).__init__()\n",
    "        self.latent_dim = latent_dim\n",
    "        self.encoder = MnistEncoder(hidden_dim, latent_dim)\n",
    "        self.decoder = MnistDecoder(hidden_dim, output_dim)\n",
    "\n",
    "    def encode(self, x):\n",
    "        mu, sig2 = self.encoder(x)\n",
    "        return mu, sig2\n",
    "\n",
    "    def sample_latent(self, mu, sig2):\n",
    "        z = tf.random.normal(shape=mu.shape)\n",
    "        return z * tf.sqrt(sig2) + mu\n",
    "\n",
    "    def decode(self, z):\n",
    "        return self.decoder(z)\n",
    "\n",
    "    def call(self, x):\n",
    "        mu, sig2 = self.encode(x)\n",
    "        z = self.sample_latent(mu, sig2)\n",
    "        return self.decode(z)\n",
    "\n",
    "    def elbo_loss(self, x, z, p, mu, sig2):\n",
    "        \"\"\"calculates ELBO loss\n",
    "\n",
    "        Args:\n",
    "            x : input iamges\n",
    "            z : samples from latent space\n",
    "            p : output from decoder\n",
    "            mu : learned means\n",
    "            sig2 : learned variances\n",
    "        \"\"\"\n",
    "\n",
    "        # log_q(z|x) logprobability of z under approximate posterior N(mu, sig)\n",
    "        log_q = tfp.distributions.Normal(loc=mu, scale=tf.sqrt(sig2)).log_prob(z)\n",
    "        log_q = tf.reduce_sum(log_q, axis=1)\n",
    "\n",
    "        # log_p_z(z) log probability of z under prior\n",
    "        log_p_z = tfp.distributions.Normal(loc=tf.constant(0., shape=(x.shape[0], self.latent_dim)), scale=tf.constant(1., shape=(x.shape[0], self.latent_dim))).log_prob(z)\n",
    "        log_p_z = tf.reduce_sum(log_p_z, axis=1)\n",
    "\n",
    "        # log_p(x|z) - conditional probability of data given latents.\n",
    "        log_p = tfp.distributions.Bernoulli(probs=p).log_prob(tf.reshape(x, shape=(x.shape[0], -1)))\n",
    "        log_p = tf.reduce_sum(log_p, axis=1)\n",
    "        \n",
    "        # log_p_z(z) + log_p(x|z) - log_q(z|x)\n",
    "        return tf.reduce_mean(log_p_z + log_p - log_q)\n",
    "\n",
    "\n",
    "    def train_step(self, x, optimizer):\n",
    "        with tf.GradientTape() as tape:\n",
    "            mu, sig2 = self.encode(x)\n",
    "            z = self.sample_latent(mu, sig2)\n",
    "            p = self.decode(z)\n",
    "            loss = -1 * self.elbo_loss(x, z, p, mu, sig2)\n",
    "        grads = tape.gradient(loss, self.trainable_variables)\n",
    "        optimizer.apply_gradients(zip(grads, self.trainable_variables))\n",
    "        return loss\n",
    "\n",
    "    def train(self, dataset, epochs):\n",
    "        optimizer = tf.keras.optimizers.Adam(learning_rate=1e-3)\n",
    "        for epoch in range(epochs):\n",
    "            for batch in dataset:\n",
    "                loss = self.train_step(batch, optimizer)\n",
    "            print(\"Epoch: {}, Loss: {}\".format(epoch, loss))\n",
    "\n",
    "    def visualize_data_space(self, img):\n",
    "        mu, sigma_square = self.encoder(img)\n",
    "        # TODO: Sample 10 z from prior \n",
    "        z = self.sample_latent(mu, sigma_square)\n",
    "\n",
    "        # TODO: For each z, plot p(x|z)\n",
    "        p = self.decoder(z)\n",
    "        x_sample = tfp.distributions.Bernoulli(probs=p).sample()\n",
    "\n",
    "        fig, axs = plt.subplots(1, 2, figsize=(5, 10), dpi=100)\n",
    "\n",
    "        axs[0].imshow(tf.reshape(p, shape=(28, 28)))\n",
    "        axs[1].imshow(tf.reshape(x_sample, shape=(28, 28)))\n",
    "        axs[0].axis('off')\n",
    "        axs[1].axis('off')\n",
    "        plt.tight_layout()\n",
    "        plt.show()\n",
    "\n",
    "    def visualize_latent_space(self, dataset, labels):\n",
    "        \n",
    "        # TODO: Encode the training data self.train_images\n",
    "        mu, _ = self.encoder(dataset)\n",
    "        colors = ['red', 'blue', 'yellow', 'green', 'orange', 'purple', 'cyan', 'magenta', 'black', 'brown']\n",
    "        fig, ax = plt.subplots(1, 1, figsize = (5, 5), dpi = 100)\n",
    "        point_sets = []\n",
    "        for i in range(len(colors)):\n",
    "            inner_list = []\n",
    "            for _ in range(mu.shape[1]):\n",
    "                inner_list.append([])\n",
    "            point_sets.append(inner_list)\n",
    "\n",
    "        for i in range(mu.shape[0]):\n",
    "            label = labels[i]\n",
    "            point_sets[label][0].append(mu[i, 0])\n",
    "            point_sets[label][1].append(mu[i, 1])\n",
    "        \n",
    "        for i in range(len(point_sets)):\n",
    "            ax.scatter(point_sets[i][0], point_sets[i][1], color=colors[i], label=i)\n",
    "        plt.legend()\n",
    "        ax.set_xlabel(r\"$\\mu_1$\")\n",
    "        ax.set_ylabel(r\"$\\mu_2$\")\n",
    "        plt.show()\n",
    "\n",
    "    def interpolate_mu(self, mua, mub, alpha = 0.5):\n",
    "        return alpha*mua + (1-alpha)*mub\n",
    "\n",
    "    def visualize_inter_class_interpolation(self, imgs, labels):\n",
    "        N_data = imgs.shape[0]\n",
    "        fig, axs = plt.subplots(1, 10, figsize=(20, 5), dpi=100)\n",
    "\n",
    "        id_1 = np.random.randint(0, N_data, (1,))[0]\n",
    "        sample_1 = imgs[id_1, ...]\n",
    "        label_1 = labels[id_1]\n",
    "        while True:\n",
    "            id_2 = np.random.randint(0, N_data, (1,))[0]\n",
    "            sample_2 = imgs[id_2, :]\n",
    "            label_2 = labels[id_2]\n",
    "            if label_1 != label_2:\n",
    "                break\n",
    "\n",
    "        mu1, sigma1 = self.encoder(tf.reshape(sample_1, shape=(1, 28, 28)))\n",
    "        mu2, sigma2 = self.encoder(tf.reshape(sample_2, shape=(1, 28, 28)))\n",
    "\n",
    "        for i in range(10):\n",
    "            z = self.interpolate_mu(mu1, mu2, i*0.1)\n",
    "            p = self.decoder(z)\n",
    "            img = tf.reshape(p, shape=(28, 28))\n",
    "            axs[i].imshow(img)\n",
    "            axs[i].set_title(r\"$\\alpha$ = %.1f\" % (0.1*i))\n",
    "            axs[i].axis('off')\n",
    "\n",
    "        plt.tight_layout()\n",
    "        plt.show()\n",
    "\n",
    "    "
   ]
  },
  {
   "cell_type": "markdown",
   "metadata": {},
   "source": [
    "Instantiate a `MnistVAE` object to train"
   ]
  },
  {
   "cell_type": "code",
   "execution_count": 9,
   "metadata": {},
   "outputs": [],
   "source": [
    "test = MnistVAE(512, 2, 784)"
   ]
  },
  {
   "cell_type": "markdown",
   "metadata": {},
   "source": [
    "training for 200 epochs"
   ]
  },
  {
   "cell_type": "code",
   "execution_count": 10,
   "metadata": {},
   "outputs": [
    {
     "name": "stdout",
     "output_type": "stream",
     "text": [
      "Epoch: 0, Loss: 190.6533966064453\n",
      "Epoch: 1, Loss: 186.6650390625\n",
      "Epoch: 2, Loss: 185.50880432128906\n",
      "Epoch: 3, Loss: 182.4773406982422\n",
      "Epoch: 4, Loss: 180.1441650390625\n",
      "Epoch: 5, Loss: 178.770263671875\n",
      "Epoch: 6, Loss: 176.1510009765625\n",
      "Epoch: 7, Loss: 173.85870361328125\n",
      "Epoch: 8, Loss: 172.15269470214844\n",
      "Epoch: 9, Loss: 169.65672302246094\n",
      "Epoch: 10, Loss: 167.981689453125\n",
      "Epoch: 11, Loss: 166.2034454345703\n",
      "Epoch: 12, Loss: 164.66307067871094\n",
      "Epoch: 13, Loss: 163.8987274169922\n",
      "Epoch: 14, Loss: 162.31248474121094\n",
      "Epoch: 15, Loss: 161.3777313232422\n",
      "Epoch: 16, Loss: 160.34458923339844\n",
      "Epoch: 17, Loss: 159.53073120117188\n",
      "Epoch: 18, Loss: 158.4584503173828\n",
      "Epoch: 19, Loss: 157.26170349121094\n",
      "Epoch: 20, Loss: 156.24537658691406\n",
      "Epoch: 21, Loss: 155.3929443359375\n",
      "Epoch: 22, Loss: 154.92019653320312\n",
      "Epoch: 23, Loss: 155.5343475341797\n",
      "Epoch: 24, Loss: 154.10350036621094\n",
      "Epoch: 25, Loss: 153.99569702148438\n",
      "Epoch: 26, Loss: 153.24737548828125\n",
      "Epoch: 27, Loss: 152.62904357910156\n",
      "Epoch: 28, Loss: 151.96368408203125\n",
      "Epoch: 29, Loss: 150.8260955810547\n",
      "Epoch: 30, Loss: 151.9801483154297\n",
      "Epoch: 31, Loss: 150.77391052246094\n",
      "Epoch: 32, Loss: 150.24681091308594\n",
      "Epoch: 33, Loss: 150.3098602294922\n",
      "Epoch: 34, Loss: 149.9552459716797\n",
      "Epoch: 35, Loss: 149.79287719726562\n",
      "Epoch: 36, Loss: 149.14820861816406\n",
      "Epoch: 37, Loss: 148.77435302734375\n",
      "Epoch: 38, Loss: 148.7249755859375\n",
      "Epoch: 39, Loss: 148.88873291015625\n",
      "Epoch: 40, Loss: 147.91094970703125\n",
      "Epoch: 41, Loss: 148.06373596191406\n",
      "Epoch: 42, Loss: 147.39102172851562\n",
      "Epoch: 43, Loss: 148.55577087402344\n",
      "Epoch: 44, Loss: 147.4468536376953\n",
      "Epoch: 45, Loss: 147.3190460205078\n",
      "Epoch: 46, Loss: 147.6962127685547\n",
      "Epoch: 47, Loss: 148.77871704101562\n",
      "Epoch: 48, Loss: 147.4729766845703\n",
      "Epoch: 49, Loss: 146.1588897705078\n",
      "Epoch: 50, Loss: 145.6517791748047\n",
      "Epoch: 51, Loss: 145.63938903808594\n",
      "Epoch: 52, Loss: 145.67803955078125\n",
      "Epoch: 53, Loss: 144.7906951904297\n",
      "Epoch: 54, Loss: 144.94842529296875\n",
      "Epoch: 55, Loss: 144.88087463378906\n",
      "Epoch: 56, Loss: 144.72308349609375\n",
      "Epoch: 57, Loss: 144.84104919433594\n",
      "Epoch: 58, Loss: 144.2440643310547\n",
      "Epoch: 59, Loss: 144.73193359375\n",
      "Epoch: 60, Loss: 144.2623291015625\n",
      "Epoch: 61, Loss: 146.4133758544922\n",
      "Epoch: 62, Loss: 145.75418090820312\n",
      "Epoch: 63, Loss: 144.43917846679688\n",
      "Epoch: 64, Loss: 143.5239715576172\n",
      "Epoch: 65, Loss: 143.91587829589844\n",
      "Epoch: 66, Loss: 143.97393798828125\n",
      "Epoch: 67, Loss: 143.1375274658203\n",
      "Epoch: 68, Loss: 144.89126586914062\n",
      "Epoch: 69, Loss: 144.0167694091797\n",
      "Epoch: 70, Loss: 143.15065002441406\n",
      "Epoch: 71, Loss: 142.4041748046875\n",
      "Epoch: 72, Loss: 142.29144287109375\n",
      "Epoch: 73, Loss: 142.38401794433594\n",
      "Epoch: 74, Loss: 141.95729064941406\n",
      "Epoch: 75, Loss: 141.88055419921875\n",
      "Epoch: 76, Loss: 141.9115753173828\n",
      "Epoch: 77, Loss: 141.9564666748047\n",
      "Epoch: 78, Loss: 142.6026153564453\n",
      "Epoch: 79, Loss: 142.24266052246094\n",
      "Epoch: 80, Loss: 142.4340057373047\n",
      "Epoch: 81, Loss: 142.06239318847656\n",
      "Epoch: 82, Loss: 141.70228576660156\n",
      "Epoch: 83, Loss: 141.8899688720703\n",
      "Epoch: 84, Loss: 141.3734893798828\n",
      "Epoch: 85, Loss: 142.81712341308594\n",
      "Epoch: 86, Loss: 142.0721435546875\n",
      "Epoch: 87, Loss: 141.4270477294922\n",
      "Epoch: 88, Loss: 141.35223388671875\n",
      "Epoch: 89, Loss: 141.54881286621094\n",
      "Epoch: 90, Loss: 142.0708770751953\n",
      "Epoch: 91, Loss: 141.13987731933594\n",
      "Epoch: 92, Loss: 141.2734832763672\n",
      "Epoch: 93, Loss: 142.00904846191406\n",
      "Epoch: 94, Loss: 141.29197692871094\n",
      "Epoch: 95, Loss: 141.4381866455078\n",
      "Epoch: 96, Loss: 140.88177490234375\n",
      "Epoch: 97, Loss: 140.41583251953125\n",
      "Epoch: 98, Loss: 140.62156677246094\n",
      "Epoch: 99, Loss: 141.8765106201172\n",
      "Epoch: 100, Loss: 140.34642028808594\n",
      "Epoch: 101, Loss: 140.81675720214844\n",
      "Epoch: 102, Loss: 140.4061737060547\n",
      "Epoch: 103, Loss: 140.9669647216797\n",
      "Epoch: 104, Loss: 140.86021423339844\n",
      "Epoch: 105, Loss: 140.86964416503906\n",
      "Epoch: 106, Loss: 140.26499938964844\n",
      "Epoch: 107, Loss: 140.68894958496094\n",
      "Epoch: 108, Loss: 140.36289978027344\n",
      "Epoch: 109, Loss: 139.85281372070312\n",
      "Epoch: 110, Loss: 140.2892303466797\n",
      "Epoch: 111, Loss: 139.55950927734375\n",
      "Epoch: 112, Loss: 141.4148712158203\n",
      "Epoch: 113, Loss: 143.3175506591797\n",
      "Epoch: 114, Loss: 140.49888610839844\n",
      "Epoch: 115, Loss: 140.43179321289062\n",
      "Epoch: 116, Loss: 140.4036102294922\n",
      "Epoch: 117, Loss: 140.12240600585938\n",
      "Epoch: 118, Loss: 139.88348388671875\n",
      "Epoch: 119, Loss: 139.6938934326172\n",
      "Epoch: 120, Loss: 139.64132690429688\n",
      "Epoch: 121, Loss: 139.28370666503906\n",
      "Epoch: 122, Loss: 139.82594299316406\n",
      "Epoch: 123, Loss: 139.62615966796875\n",
      "Epoch: 124, Loss: 139.7059326171875\n",
      "Epoch: 125, Loss: 139.29112243652344\n",
      "Epoch: 126, Loss: 139.08349609375\n",
      "Epoch: 127, Loss: 139.63560485839844\n",
      "Epoch: 128, Loss: 140.5170440673828\n",
      "Epoch: 129, Loss: 139.34010314941406\n",
      "Epoch: 130, Loss: 138.61929321289062\n",
      "Epoch: 131, Loss: 139.392333984375\n",
      "Epoch: 132, Loss: 139.09967041015625\n",
      "Epoch: 133, Loss: 139.34780883789062\n",
      "Epoch: 134, Loss: 139.93406677246094\n",
      "Epoch: 135, Loss: 140.51722717285156\n",
      "Epoch: 136, Loss: 139.43504333496094\n",
      "Epoch: 137, Loss: 139.0232391357422\n",
      "Epoch: 138, Loss: 139.1287078857422\n",
      "Epoch: 139, Loss: 140.56895446777344\n",
      "Epoch: 140, Loss: 141.5364227294922\n",
      "Epoch: 141, Loss: 140.217529296875\n",
      "Epoch: 142, Loss: 139.16470336914062\n",
      "Epoch: 143, Loss: 139.1983642578125\n",
      "Epoch: 144, Loss: 138.35951232910156\n",
      "Epoch: 145, Loss: 138.68373107910156\n",
      "Epoch: 146, Loss: 138.39613342285156\n",
      "Epoch: 147, Loss: 138.49232482910156\n",
      "Epoch: 148, Loss: 139.38990783691406\n",
      "Epoch: 149, Loss: 138.90362548828125\n",
      "Epoch: 150, Loss: 139.0657196044922\n",
      "Epoch: 151, Loss: 140.33766174316406\n",
      "Epoch: 152, Loss: 139.4157257080078\n",
      "Epoch: 153, Loss: 138.3717803955078\n",
      "Epoch: 154, Loss: 140.55152893066406\n",
      "Epoch: 155, Loss: 138.5356903076172\n",
      "Epoch: 156, Loss: 138.81881713867188\n",
      "Epoch: 157, Loss: 138.75518798828125\n",
      "Epoch: 158, Loss: 138.6034698486328\n",
      "Epoch: 159, Loss: 138.39776611328125\n",
      "Epoch: 160, Loss: 139.8539276123047\n",
      "Epoch: 161, Loss: 139.65008544921875\n",
      "Epoch: 162, Loss: 139.28086853027344\n",
      "Epoch: 163, Loss: 138.9974365234375\n",
      "Epoch: 164, Loss: 139.91896057128906\n",
      "Epoch: 165, Loss: 139.9574737548828\n",
      "Epoch: 166, Loss: 139.82469177246094\n",
      "Epoch: 167, Loss: 138.70123291015625\n",
      "Epoch: 168, Loss: 139.28746032714844\n",
      "Epoch: 169, Loss: 138.59523010253906\n",
      "Epoch: 170, Loss: 138.2547607421875\n",
      "Epoch: 171, Loss: 137.93081665039062\n",
      "Epoch: 172, Loss: 138.1182098388672\n",
      "Epoch: 173, Loss: 138.27835083007812\n",
      "Epoch: 174, Loss: 138.9619598388672\n",
      "Epoch: 175, Loss: 138.51686096191406\n",
      "Epoch: 176, Loss: 138.4506378173828\n",
      "Epoch: 177, Loss: 138.0378875732422\n",
      "Epoch: 178, Loss: 138.1941375732422\n",
      "Epoch: 179, Loss: 138.93426513671875\n",
      "Epoch: 180, Loss: 139.09898376464844\n",
      "Epoch: 181, Loss: 138.3577423095703\n",
      "Epoch: 182, Loss: 138.03431701660156\n",
      "Epoch: 183, Loss: 137.98428344726562\n",
      "Epoch: 184, Loss: 138.0027618408203\n",
      "Epoch: 185, Loss: 138.7936553955078\n",
      "Epoch: 186, Loss: 137.4521484375\n",
      "Epoch: 187, Loss: 138.78668212890625\n",
      "Epoch: 188, Loss: 138.40220642089844\n",
      "Epoch: 189, Loss: 140.42652893066406\n",
      "Epoch: 190, Loss: 138.90150451660156\n",
      "Epoch: 191, Loss: 139.1780548095703\n",
      "Epoch: 192, Loss: 138.4559783935547\n",
      "Epoch: 193, Loss: 138.3470001220703\n",
      "Epoch: 194, Loss: 138.3907928466797\n",
      "Epoch: 195, Loss: 138.24623107910156\n",
      "Epoch: 196, Loss: 137.5792694091797\n",
      "Epoch: 197, Loss: 137.7711944580078\n",
      "Epoch: 198, Loss: 137.5214080810547\n",
      "Epoch: 199, Loss: 137.3612518310547\n"
     ]
    }
   ],
   "source": [
    "test.train(MNIST_dataset, 200)"
   ]
  },
  {
   "cell_type": "markdown",
   "metadata": {},
   "source": [
    "## Sample from the latent space\n",
    "Left figure shows the probabity distribution (Bernoulli) learned and the right figure shows a sample from this distribution."
   ]
  },
  {
   "cell_type": "code",
   "execution_count": 11,
   "metadata": {},
   "outputs": [
    {
     "data": {
      "image/png": "[encoded data removed]",
      "text/plain": [
       "<Figure size 500x1000 with 2 Axes>"
      ]
     },
     "metadata": {},
     "output_type": "display_data"
    }
   ],
   "source": [
    "test_img = next(iter(MNIST_dataset))[0]\n",
    "test_img = tf.reshape(test_img, shape=(1, 28, 28))\n",
    "test.visualize_data_space(test_img)"
   ]
  },
  {
   "cell_type": "markdown",
   "metadata": {},
   "source": [
    "# Latent space plot\n",
    "A plot of the two dimnesions of the latent space (only the means) and their correspoding labels (numbers)"
   ]
  },
  {
   "cell_type": "code",
   "execution_count": 12,
   "metadata": {},
   "outputs": [
    {
     "data": {
      "image/png": "[encoded data removed]",
      "text/plain": [
       "<Figure size 500x500 with 1 Axes>"
      ]
     },
     "metadata": {},
     "output_type": "display_data"
    }
   ],
   "source": [
    "imgs = tf.concat([x for x in MNIST_dataset], axis=0) # get all the data back from the batches\n",
    "test.visualize_latent_space(imgs, y_train)\n"
   ]
  },
  {
   "cell_type": "markdown",
   "metadata": {},
   "source": [
    "## Interpolation plot\n",
    "Linear interpolation of $\\mu$ values of two different numbers shows how moving across the latent space generates different outputs."
   ]
  },
  {
   "cell_type": "code",
   "execution_count": 13,
   "metadata": {},
   "outputs": [
    {
     "data": {
      "image/png": "[encoded data removed]",
      "text/plain": [
       "<Figure size 2000x500 with 10 Axes>"
      ]
     },
     "metadata": {},
     "output_type": "display_data"
    }
   ],
   "source": [
    "test.visualize_inter_class_interpolation(imgs, y_train)"
   ]
  }
 ],
 "metadata": {
  "kernelspec": {
   "display_name": "Python 3.10.6 ('tensorflow')",
   "language": "python",
   "name": "python3"
  },
  "language_info": {
   "codemirror_mode": {
    "name": "ipython",
    "version": 3
   },
   "file_extension": ".py",
   "mimetype": "text/x-python",
   "name": "python",
   "nbconvert_exporter": "python",
   "pygments_lexer": "ipython3",
   "version": "3.10.6"
  },
  "orig_nbformat": 4,
  "vscode": {
   "interpreter": {
    "hash": "b3e2e258fdf5e2bb186dcc83b9b19b3eff941715d1664da7433e1539ab25aa65"
   }
  }
 },
 "nbformat": 4,
 "nbformat_minor": 2
}
